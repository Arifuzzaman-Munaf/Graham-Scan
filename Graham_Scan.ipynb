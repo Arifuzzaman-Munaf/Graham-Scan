{
  "nbformat": 4,
  "nbformat_minor": 0,
  "metadata": {
    "colab": {
      "name": "Graham Scan.ipynb",
      "provenance": []
    },
    "kernelspec": {
      "name": "python3",
      "display_name": "Python 3"
    },
    "language_info": {
      "name": "python"
    }
  },
  "cells": [
    {
      "cell_type": "markdown",
      "metadata": {
        "id": "R4OZVipgipx7"
      },
      "source": [
        "# **Graham Scan Implementation**\n",
        "\n",
        "---\n",
        "You will find error in some cases where same points are generated again as the points are randomely generated with python library . \n",
        "In this case you have run this code again for genrate unique points\n"
      ]
    },
    {
      "cell_type": "code",
      "metadata": {
        "colab": {
          "base_uri": "https://localhost:8080/",
          "height": 282
        },
        "id": "47mGjhgDqm7W",
        "outputId": "a3bb5fc1-cf82-492f-acef-e54c4ca1dc66"
      },
      "source": [
        "import matplotlib.pyplot as plt\n",
        "from random import randint as rd\n",
        "from math import atan2,sqrt\n",
        "\n",
        "\n",
        "def random_points(number_of_points , min=0 , max = 20):\n",
        "    return [[rd(min,max),rd(min,max)] for i in range(number_of_points)]\n",
        "\n",
        "def initial_point(points):\n",
        "    start_point=None\n",
        "    for i,(x,y) in enumerate(points):\n",
        "        if start_point==None or y<points[start_point][1]:\n",
        "            start_point=i\n",
        "        if y==points[start_point][1] and x<points[start_point][0]:\n",
        "            start_point=i\n",
        "    return points[start_point]\n",
        "\n",
        "def polar_angle(p1 , p0 = None ):\n",
        "    p0 = p\n",
        "    del_y = p1[1]-p0[1]\n",
        "    del_x=p1[0]-p0[0]\n",
        "    return atan2(del_y,del_x)\n",
        "\n",
        "def distance(p1 , p0 = None ):\n",
        "    p0 = p\n",
        "    del_y = p1[1] - p0[1]\n",
        "    del_x = p1[0] - p0[0]\n",
        "    return sqrt(del_x**2 + del_y**2)\n",
        " \n",
        "def determinant(a, b, c):\n",
        "    return (b[0] - a[0]) * (c[1] - a[1]) - (c[0] - a[0]) * (b[1] - a[1])\n",
        "\n",
        "\n",
        "def angular_sort(a):\n",
        "    if len(a)<=1:\n",
        "        return a\n",
        "    smaller,equal,larger=[],[],[]\n",
        "    piv_ang=polar_angle(a[rd(0,len(a)-1)])\n",
        "    for pt in a:\n",
        "        pt_ang=polar_angle(pt)\n",
        "        if pt_ang<piv_ang:\n",
        "            smaller.append(pt)\n",
        "        elif pt_ang==piv_ang:\n",
        "            equal.append(pt)\n",
        "        else:\n",
        "            larger.append(pt)\n",
        "    return angular_sort(smaller) \\\n",
        "            + sorted(equal,key=distance) \\\n",
        "            + angular_sort(larger)\n",
        "def determinant(p1,p2,p3):\n",
        "\treturn (p2[0]-p1[0])*(p3[1]-p1[1]) - (p2[1]-p1[1])*(p3[0]-p1[0])\n",
        "\n",
        "def visualization(points , hull = None):\n",
        "    x,y = zip(*points)\n",
        "    plt.scatter(x,y,marker='x')\n",
        "    if hull != None:\n",
        "        for i in range(1,len(hull)+1):\n",
        "            if i==len(hull):\n",
        "                i=0\n",
        "            p0=hull[i-1]\n",
        "            p1=hull[i]\n",
        "            plt.plot((p0[0],p1[0]),(p0[1],p1[1]),'r')\n",
        "    plt.show()\n",
        "\n",
        "\n",
        "\n",
        "def GrahamScan(points):\n",
        "    global p\n",
        "    p = initial_point(points)\n",
        "    sorted_points = angular_sort(points)\n",
        "    del sorted_points[sorted_points.index(p)]\n",
        "    hull = [p, sorted_points[0]]\n",
        "\n",
        "    for i in sorted_points[1:]:\n",
        "        while len(hull) > 1 and determinant(hull[-2],hull[-1],i) <= 0:\n",
        "            del hull[-1]\n",
        "        hull.append(i)\n",
        "    return hull\n",
        "\n",
        "points = random_points(20)\n",
        "print(f\"Points are : {points}\")\n",
        "hull = GrahamScan(points)\n",
        "visualization(points,hull)"
      ],
      "execution_count": null,
      "outputs": [
        {
          "output_type": "stream",
          "text": [
            "Points are : [[12, 0], [7, 2], [3, 11], [20, 12], [18, 6], [10, 4], [6, 8], [4, 6], [7, 2], [11, 16], [7, 20], [2, 0], [4, 7], [20, 9], [5, 15], [5, 11], [19, 8], [17, 17], [16, 14], [2, 5]]\n"
          ],
          "name": "stdout"
        },
        {
          "output_type": "display_data",
          "data": {
            "image/png": "[encoded data removed]",
            "text/plain": [
              "<Figure size 432x288 with 1 Axes>"
            ]
          },
          "metadata": {
            "tags": [],
            "needs_background": "light"
          }
        }
      ]
    },
    {
      "cell_type": "code",
      "metadata": {
        "colab": {
          "base_uri": "https://localhost:8080/"
        },
        "id": "F1Y2eI8NvtLR",
        "outputId": "4ac3fabd-6a05-4e33-a8e7-303964d18021"
      },
      "source": [
        "def collinear(p1,p2,p3):\n",
        "    area = p1[0] * (p2[1] - p3[1]) + p2[0] * (p3[1] - p1[1]) + p3[0] * (p1[1] - p2[1])\n",
        "    return True if area == 0 else False\n",
        "def same(a,b,c):\n",
        "    if a == b or b == c or c == a :\n",
        "        return True\n",
        "\n",
        "def equation(p1 , p2):\n",
        "    if p2[0] - p1[0] == 0 :\n",
        "        return f'X = {p1[0]}'\n",
        "    m = (p2[1] - p1[1])/(p2[0] - p1[0])\n",
        "    c = p1[1] - (p1[0] * m)\n",
        "    if m == 0 :\n",
        "        return f\" Y = {c}\"\n",
        "    return f'Y = {round(m,2)}X + {round(c,2)}'\n",
        "\n",
        "\n",
        "def lines(points):\n",
        "    global p\n",
        "    points_with_equation = {}\n",
        "    count = 0\n",
        "    for x in points:\n",
        "        p = x\n",
        "        sorted_points = angular_sort(points)\n",
        "        del sorted_points[sorted_points.index(p)]\n",
        "        tracker = sorted_points[0]\n",
        "        for i in sorted_points[1:]:\n",
        "            if collinear(p,tracker,i) and not same(p,tracker,i):\n",
        "                points_with_equation[equation(p, i)] = [p,tracker,i]\n",
        "                del sorted_points[sorted_points.index(tracker)]\n",
        "                del sorted_points[sorted_points.index(i)]\n",
        "            else :\n",
        "                tracker = i\n",
        "\n",
        "    return points_with_equation\n",
        "\n",
        "if __name__ == '__main__':\n",
        "    points = random_points(20)\n",
        "    print(f'Points tested : {points}\\n')\n",
        "    result = lines(points)\n",
        "    line = len(result)\n",
        "    print(f'There are {line} collinear in Tested points\\n')\n",
        "    for i,equation in enumerate(result):\n",
        "        print(f'Set-{i+1}==> {result[equation]} are collinear and their equation is : {equation}\\n')\n",
        "\n"
      ],
      "execution_count": null,
      "outputs": [
        {
          "output_type": "stream",
          "text": [
            "Points tested : [[20, 18], [14, 18], [9, 10], [10, 20], [3, 12], [9, 5], [8, 0], [14, 1], [0, 20], [7, 8], [2, 19], [13, 14], [1, 5], [17, 16], [13, 4], [4, 19], [1, 0], [20, 7], [2, 15], [6, 19]]\n",
            "\n",
            "There are 6 collinear in Tested points\n",
            "\n",
            "Set-1==> [[8, 0], [9, 10], [10, 20]] are collinear and their equation is : Y = 10.0X + -80.0\n",
            "\n",
            "Set-2==> [[14, 1], [7, 8], [3, 12]] are collinear and their equation is : Y = -1.0X + 15.0\n",
            "\n",
            "Set-3==> [[0, 20], [2, 15], [8, 0]] are collinear and their equation is : Y = -2.5X + 20.0\n",
            "\n",
            "Set-4==> [[4, 19], [9, 10], [14, 1]] are collinear and their equation is : Y = -1.8X + 26.2\n",
            "\n",
            "Set-5==> [[13, 14], [9, 10], [7, 8]] are collinear and their equation is : Y = 1.0X + 1.0\n",
            "\n",
            "Set-6==> [[6, 19], [4, 19], [2, 19]] are collinear and their equation is :  Y = 19.0\n",
            "\n"
          ],
          "name": "stdout"
        }
      ]
    },
    {
      "cell_type": "code",
      "metadata": {
        "id": "URSOni4I8rDN"
      },
      "source": [
        ""
      ],
      "execution_count": null,
      "outputs": []
    }
  ]
}